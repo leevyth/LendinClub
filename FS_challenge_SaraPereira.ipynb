{
 "cells": [
  {
   "cell_type": "markdown",
   "metadata": {},
   "source": [
    "# James Challenge Solution \n",
    "## by Sara Pereira\n",
    "\n",
    "The data from Lending Club 2016 is read from .csv files and consolidated into a pandas dataframe. \n",
    "\n",
    "The proposed questions are answered using basics methods of pandas. \n",
    "When exploring data it is seen how is the volume distribution of loan amounts, and how the grade of loans affects the target variable.\n",
    "\n",
    "This data set has a very high dimensionality so it has to be reduced. Variables that are mostly missing data are removed. It is then analysed the correlation between numerical variables, and some more are eliminated. Dates are turned into time periods and categorical variables are encoded. \n",
    "\n",
    "The data set is split into training set and test set, and it is ensured that every scaler or model is only fitted to the training set, and then applied to the test set.\n",
    "\n",
    "After standardising the data, some models are compared for the prediction of the loan status. The choice of models was done so it would contain classification models of different types (implementing different techniques).\n",
    "The results are evaluated in terms of recall, precision, f1 score mathews correlation coefficient and AUC with a ROC. \n",
    "All models deliver extraordinary performance, resulting from careful feature engineering.\n",
    "\n",
    "Some comments and analysis are made along the script.\n"
   ]
  },
  {
   "cell_type": "markdown",
   "metadata": {},
   "source": [
    "# Import Statements"
   ]
  },
  {
   "cell_type": "code",
   "execution_count": 1,
   "metadata": {},
   "outputs": [],
   "source": [
    "import os\n",
    "import numpy as np\n",
    "import pandas as pd\n",
    "import math\n",
    "\n",
    "# time\n",
    "import datetime\n",
    "from monthdelta import *\n",
    "\n",
    "# visualization\n",
    "import seaborn as sns\n",
    "from matplotlib import pyplot as plt\n",
    "\n",
    "#models\n",
    "from sklearn.preprocessing import StandardScaler\n",
    "from sklearn.linear_model import LogisticRegression\n",
    "# these models take too long to process\n",
    "#from sklearn.tree import DecisionTreeClassifier \n",
    "#from sklearn.neighbors import KNeighborsClassifier\n",
    "from sklearn.ensemble import RandomForestClassifier, GradientBoostingClassifier\n",
    "\n",
    "#evaluation metrics\n",
    "from sklearn.model_selection import cross_val_score\n",
    "from sklearn import metrics\n",
    "from sklearn import preprocessing\n",
    "%matplotlib inline "
   ]
  },
  {
   "cell_type": "markdown",
   "metadata": {},
   "source": [
    "# Read and Merge Files"
   ]
  },
  {
   "cell_type": "code",
   "execution_count": 2,
   "metadata": {},
   "outputs": [
    {
     "name": "stdout",
     "output_type": "stream",
     "text": [
      "Successfuly read LoanStats/LoanStats_2016Q1.csv. Data corresponds to the following issuing months:\n",
      "Mar-2016    61992\n",
      "Feb-2016    39529\n",
      "Jan-2016    32366\n",
      "Name: issue_d, dtype: int64\n",
      "Successfuly read LoanStats/LoanStats_2016Q2.csv. Data corresponds to the following issuing months:\n",
      "Apr-2016    36432\n",
      "Jun-2016    33019\n",
      "May-2016    28403\n",
      "Name: issue_d, dtype: int64\n",
      "Successfuly read LoanStats/LoanStats_2016Q3.csv. Data corresponds to the following issuing months:\n",
      "Aug-2016    36280\n",
      "Jul-2016    34696\n",
      "Sep-2016    28144\n",
      "Name: issue_d, dtype: int64\n",
      "Successfuly read LoanStats/LoanStats_2016Q4.csv. Data corresponds to the following issuing months:\n",
      "Dec-2016    36183\n",
      "Nov-2016    34591\n",
      "Oct-2016    32772\n",
      "Name: issue_d, dtype: int64\n"
     ]
    }
   ],
   "source": [
    "files = ['LoanStats/LoanStats_2016Q1.csv', 'LoanStats/LoanStats_2016Q2.csv', 'LoanStats/LoanStats_2016Q3.csv', 'LoanStats/LoanStats_2016Q4.csv']\n",
    "frames = ['Q1', 'Q2', 'Q3', 'Q4']\n",
    "ddf = {}\n",
    "\n",
    "for frame, file in zip(frames, files):\n",
    "    ddf[frame] = pd.read_csv(file, skiprows=1, low_memory=False)\n",
    "    print('Successfuly read {}. Data corresponds to the following issuing months:'.format(file))\n",
    "    print(ddf[frame]['issue_d'].value_counts())\n",
    "\n",
    "df = pd.concat(ddf)\n"
   ]
  },
  {
   "cell_type": "code",
   "execution_count": 3,
   "metadata": {},
   "outputs": [
    {
     "data": {
      "text/html": [
       "<div>\n",
       "<style scoped>\n",
       "    .dataframe tbody tr th:only-of-type {\n",
       "        vertical-align: middle;\n",
       "    }\n",
       "\n",
       "    .dataframe tbody tr th {\n",
       "        vertical-align: top;\n",
       "    }\n",
       "\n",
       "    .dataframe thead th {\n",
       "        text-align: right;\n",
       "    }\n",
       "</style>\n",
       "<table border=\"1\" class=\"dataframe\">\n",
       "  <thead>\n",
       "    <tr style=\"text-align: right;\">\n",
       "      <th></th>\n",
       "      <th></th>\n",
       "      <th>id</th>\n",
       "      <th>member_id</th>\n",
       "      <th>loan_amnt</th>\n",
       "      <th>funded_amnt</th>\n",
       "      <th>funded_amnt_inv</th>\n",
       "      <th>term</th>\n",
       "      <th>int_rate</th>\n",
       "      <th>installment</th>\n",
       "      <th>grade</th>\n",
       "      <th>sub_grade</th>\n",
       "      <th>...</th>\n",
       "      <th>hardship_payoff_balance_amount</th>\n",
       "      <th>hardship_last_payment_amount</th>\n",
       "      <th>disbursement_method</th>\n",
       "      <th>debt_settlement_flag</th>\n",
       "      <th>debt_settlement_flag_date</th>\n",
       "      <th>settlement_status</th>\n",
       "      <th>settlement_date</th>\n",
       "      <th>settlement_amount</th>\n",
       "      <th>settlement_percentage</th>\n",
       "      <th>settlement_term</th>\n",
       "    </tr>\n",
       "  </thead>\n",
       "  <tbody>\n",
       "    <tr>\n",
       "      <th rowspan=\"5\" valign=\"top\">Q1</th>\n",
       "      <th>0</th>\n",
       "      <td>NaN</td>\n",
       "      <td>NaN</td>\n",
       "      <td>12000.0</td>\n",
       "      <td>12000.0</td>\n",
       "      <td>12000.0</td>\n",
       "      <td>60 months</td>\n",
       "      <td>6.97%</td>\n",
       "      <td>237.45</td>\n",
       "      <td>A</td>\n",
       "      <td>A3</td>\n",
       "      <td>...</td>\n",
       "      <td>NaN</td>\n",
       "      <td>NaN</td>\n",
       "      <td>Cash</td>\n",
       "      <td>N</td>\n",
       "      <td>NaN</td>\n",
       "      <td>NaN</td>\n",
       "      <td>NaN</td>\n",
       "      <td>NaN</td>\n",
       "      <td>NaN</td>\n",
       "      <td>NaN</td>\n",
       "    </tr>\n",
       "    <tr>\n",
       "      <th>1</th>\n",
       "      <td>NaN</td>\n",
       "      <td>NaN</td>\n",
       "      <td>8000.0</td>\n",
       "      <td>8000.0</td>\n",
       "      <td>8000.0</td>\n",
       "      <td>36 months</td>\n",
       "      <td>11.99%</td>\n",
       "      <td>265.68</td>\n",
       "      <td>C</td>\n",
       "      <td>C1</td>\n",
       "      <td>...</td>\n",
       "      <td>NaN</td>\n",
       "      <td>NaN</td>\n",
       "      <td>Cash</td>\n",
       "      <td>N</td>\n",
       "      <td>NaN</td>\n",
       "      <td>NaN</td>\n",
       "      <td>NaN</td>\n",
       "      <td>NaN</td>\n",
       "      <td>NaN</td>\n",
       "      <td>NaN</td>\n",
       "    </tr>\n",
       "    <tr>\n",
       "      <th>2</th>\n",
       "      <td>NaN</td>\n",
       "      <td>NaN</td>\n",
       "      <td>8200.0</td>\n",
       "      <td>8200.0</td>\n",
       "      <td>8200.0</td>\n",
       "      <td>36 months</td>\n",
       "      <td>11.47%</td>\n",
       "      <td>270.29</td>\n",
       "      <td>B</td>\n",
       "      <td>B5</td>\n",
       "      <td>...</td>\n",
       "      <td>NaN</td>\n",
       "      <td>NaN</td>\n",
       "      <td>Cash</td>\n",
       "      <td>N</td>\n",
       "      <td>NaN</td>\n",
       "      <td>NaN</td>\n",
       "      <td>NaN</td>\n",
       "      <td>NaN</td>\n",
       "      <td>NaN</td>\n",
       "      <td>NaN</td>\n",
       "    </tr>\n",
       "    <tr>\n",
       "      <th>3</th>\n",
       "      <td>NaN</td>\n",
       "      <td>NaN</td>\n",
       "      <td>14000.0</td>\n",
       "      <td>14000.0</td>\n",
       "      <td>14000.0</td>\n",
       "      <td>36 months</td>\n",
       "      <td>10.75%</td>\n",
       "      <td>456.69</td>\n",
       "      <td>B</td>\n",
       "      <td>B4</td>\n",
       "      <td>...</td>\n",
       "      <td>NaN</td>\n",
       "      <td>NaN</td>\n",
       "      <td>Cash</td>\n",
       "      <td>N</td>\n",
       "      <td>NaN</td>\n",
       "      <td>NaN</td>\n",
       "      <td>NaN</td>\n",
       "      <td>NaN</td>\n",
       "      <td>NaN</td>\n",
       "      <td>NaN</td>\n",
       "    </tr>\n",
       "    <tr>\n",
       "      <th>4</th>\n",
       "      <td>NaN</td>\n",
       "      <td>NaN</td>\n",
       "      <td>15000.0</td>\n",
       "      <td>15000.0</td>\n",
       "      <td>15000.0</td>\n",
       "      <td>36 months</td>\n",
       "      <td>9.16%</td>\n",
       "      <td>478.12</td>\n",
       "      <td>B</td>\n",
       "      <td>B2</td>\n",
       "      <td>...</td>\n",
       "      <td>NaN</td>\n",
       "      <td>NaN</td>\n",
       "      <td>Cash</td>\n",
       "      <td>N</td>\n",
       "      <td>NaN</td>\n",
       "      <td>NaN</td>\n",
       "      <td>NaN</td>\n",
       "      <td>NaN</td>\n",
       "      <td>NaN</td>\n",
       "      <td>NaN</td>\n",
       "    </tr>\n",
       "  </tbody>\n",
       "</table>\n",
       "<p>5 rows × 145 columns</p>\n",
       "</div>"
      ],
      "text/plain": [
       "       id  member_id  loan_amnt  funded_amnt  funded_amnt_inv        term  \\\n",
       "Q1 0  NaN        NaN    12000.0      12000.0          12000.0   60 months   \n",
       "   1  NaN        NaN     8000.0       8000.0           8000.0   36 months   \n",
       "   2  NaN        NaN     8200.0       8200.0           8200.0   36 months   \n",
       "   3  NaN        NaN    14000.0      14000.0          14000.0   36 months   \n",
       "   4  NaN        NaN    15000.0      15000.0          15000.0   36 months   \n",
       "\n",
       "     int_rate  installment grade sub_grade       ...        \\\n",
       "Q1 0    6.97%       237.45     A        A3       ...         \n",
       "   1   11.99%       265.68     C        C1       ...         \n",
       "   2   11.47%       270.29     B        B5       ...         \n",
       "   3   10.75%       456.69     B        B4       ...         \n",
       "   4    9.16%       478.12     B        B2       ...         \n",
       "\n",
       "     hardship_payoff_balance_amount hardship_last_payment_amount  \\\n",
       "Q1 0                            NaN                          NaN   \n",
       "   1                            NaN                          NaN   \n",
       "   2                            NaN                          NaN   \n",
       "   3                            NaN                          NaN   \n",
       "   4                            NaN                          NaN   \n",
       "\n",
       "     disbursement_method  debt_settlement_flag debt_settlement_flag_date  \\\n",
       "Q1 0                Cash                     N                       NaN   \n",
       "   1                Cash                     N                       NaN   \n",
       "   2                Cash                     N                       NaN   \n",
       "   3                Cash                     N                       NaN   \n",
       "   4                Cash                     N                       NaN   \n",
       "\n",
       "     settlement_status settlement_date settlement_amount  \\\n",
       "Q1 0               NaN             NaN               NaN   \n",
       "   1               NaN             NaN               NaN   \n",
       "   2               NaN             NaN               NaN   \n",
       "   3               NaN             NaN               NaN   \n",
       "   4               NaN             NaN               NaN   \n",
       "\n",
       "      settlement_percentage settlement_term  \n",
       "Q1 0                    NaN             NaN  \n",
       "   1                    NaN             NaN  \n",
       "   2                    NaN             NaN  \n",
       "   3                    NaN             NaN  \n",
       "   4                    NaN             NaN  \n",
       "\n",
       "[5 rows x 145 columns]"
      ]
     },
     "execution_count": 3,
     "metadata": {},
     "output_type": "execute_result"
    }
   ],
   "source": [
    "df.head()"
   ]
  },
  {
   "cell_type": "markdown",
   "metadata": {},
   "source": [
    "# Questions "
   ]
  },
  {
   "cell_type": "markdown",
   "metadata": {},
   "source": [
    "### a. How many loans are *there*?"
   ]
  },
  {
   "cell_type": "code",
   "execution_count": 4,
   "metadata": {},
   "outputs": [
    {
     "data": {
      "text/plain": [
       "434415"
      ]
     },
     "execution_count": 4,
     "metadata": {},
     "output_type": "execute_result"
    }
   ],
   "source": [
    "df.shape[0]"
   ]
  },
  {
   "cell_type": "markdown",
   "metadata": {},
   "source": [
    "### b. How many columns does the dataset have?"
   ]
  },
  {
   "cell_type": "code",
   "execution_count": 5,
   "metadata": {},
   "outputs": [
    {
     "data": {
      "text/plain": [
       "145"
      ]
     },
     "execution_count": 5,
     "metadata": {},
     "output_type": "execute_result"
    }
   ],
   "source": [
    "df.shape[1]"
   ]
  },
  {
   "cell_type": "markdown",
   "metadata": {},
   "source": [
    "### c. How many columns only contain missing data?\n",
    "\n",
    "Columns only containing missing data won't be of help so we might as well just eliminate them "
   ]
  },
  {
   "cell_type": "code",
   "execution_count": 6,
   "metadata": {},
   "outputs": [
    {
     "name": "stdout",
     "output_type": "stream",
     "text": [
      "Removed column(s) = 145 - 132 = 13\n"
     ]
    }
   ],
   "source": [
    "df.dropna(axis=1, how='all', inplace=True) \n",
    "print('Removed column(s) = 145 - {} = {}'.format(df.shape[1], (145-df.shape[1]))) # 145 is the original number of columns "
   ]
  },
  {
   "cell_type": "markdown",
   "metadata": {},
   "source": [
    "### d. How many loans are still current? \n",
    "\n",
    "'Current' is one of the possible loan status with 225496 instances"
   ]
  },
  {
   "cell_type": "code",
   "execution_count": 7,
   "metadata": {},
   "outputs": [
    {
     "data": {
      "text/plain": [
       "Current               225496\n",
       "Fully Paid            145318\n",
       "Charged Off            50819\n",
       "Late (31-120 days)      6728\n",
       "In Grace Period         4518\n",
       "Late (16-30 days)       1517\n",
       "Default                   11\n",
       "Name: loan_status, dtype: int64"
      ]
     },
     "execution_count": 7,
     "metadata": {},
     "output_type": "execute_result"
    }
   ],
   "source": [
    "df['loan_status'].value_counts()"
   ]
  },
  {
   "cell_type": "markdown",
   "metadata": {},
   "source": [
    "# Subset Exploration\n",
    "\n",
    "The exploration takes into account that the goal is to predict the probability of a loan being charged off. \n",
    "\n",
    "From now on the variable 'loan_status' is considered the target variable"
   ]
  },
  {
   "cell_type": "code",
   "execution_count": 8,
   "metadata": {},
   "outputs": [
    {
     "data": {
      "text/plain": [
       "Fully Paid     145318\n",
       "Charged Off     50819\n",
       "Name: loan_status, dtype: int64"
      ]
     },
     "execution_count": 8,
     "metadata": {},
     "output_type": "execute_result"
    }
   ],
   "source": [
    "# subset creation \n",
    "\n",
    "df = df[((df['loan_status'] == 'Fully Paid') | (df['loan_status'] == 'Charged Off'))] # the other categories won't be needed \n",
    "                                                                                      # so I'll just rewrite the df variable\n",
    "df['loan_status'].value_counts() # Charged Off status acounts for ~25% of the dataset"
   ]
  },
  {
   "cell_type": "code",
   "execution_count": 9,
   "metadata": {},
   "outputs": [
    {
     "name": "stdout",
     "output_type": "stream",
     "text": [
      "<class 'pandas.core.frame.DataFrame'>\n",
      "MultiIndex: 196137 entries, (Q1, 2) to (Q4, 103544)\n",
      "Columns: 132 entries, id to settlement_term\n",
      "dtypes: float64(94), object(38)\n",
      "memory usage: 199.5+ MB\n"
     ]
    }
   ],
   "source": [
    "df.info()"
   ]
  },
  {
   "cell_type": "code",
   "execution_count": 10,
   "metadata": {},
   "outputs": [
    {
     "name": "stdout",
     "output_type": "stream",
     "text": [
      "Removed column(s) = 132 - 130 = 2\n"
     ]
    }
   ],
   "source": [
    "# Remove columns with only missing data that may have surged after subsetting\n",
    "df.dropna(axis=1, how='all', inplace=True) \n",
    "print('Removed column(s) = 132 - {} = {}'.format(df.shape[1], (132-df.shape[1])))"
   ]
  },
  {
   "cell_type": "markdown",
   "metadata": {},
   "source": [
    "### Distribution of Loan amount \n"
   ]
  },
  {
   "cell_type": "code",
   "execution_count": 11,
   "metadata": {},
   "outputs": [
    {
     "name": "stdout",
     "output_type": "stream",
     "text": [
      "50% of the loan amounts id under 12000.0\n"
     ]
    },
    {
     "data": {
      "image/png": "[encoded data removed]",
      "text/plain": [
       "<Figure size 432x288 with 1 Axes>"
      ]
     },
     "metadata": {},
     "output_type": "display_data"
    }
   ],
   "source": [
    "df.loan_amnt.plot(kind=\"hist\", bins=15)\n",
    "print('50% of the loan amounts id under {}'.format(df.loan_amnt.median()))"
   ]
  },
  {
   "cell_type": "markdown",
   "metadata": {},
   "source": [
    "### Loan grade volumes (filtered by loan status)\n",
    "The results suggest the loan grade may play an important role on the loan being charged off. As one can see there is a big difference between both distributions."
   ]
  },
  {
   "cell_type": "markdown",
   "metadata": {},
   "source": [
    "##### Charged Off Loans"
   ]
  },
  {
   "cell_type": "code",
   "execution_count": 12,
   "metadata": {},
   "outputs": [
    {
     "data": {
      "text/plain": [
       "<matplotlib.axes._subplots.AxesSubplot at 0x1fd809ba160>"
      ]
     },
     "execution_count": 12,
     "metadata": {},
     "output_type": "execute_result"
    },
    {
     "data": {
      "image/png": "[encoded data removed]",
      "text/plain": [
       "<Figure size 432x288 with 1 Axes>"
      ]
     },
     "metadata": {},
     "output_type": "display_data"
    }
   ],
   "source": [
    "df[df['loan_status'] == 'Charged Off'].grade.value_counts().plot(kind='bar', color = \n",
    "                                                                 ['black', 'red', 'green', 'blue', 'cyan', 'yellow', 'orange'])"
   ]
  },
  {
   "cell_type": "markdown",
   "metadata": {},
   "source": [
    "##### Fully paid loans"
   ]
  },
  {
   "cell_type": "code",
   "execution_count": 13,
   "metadata": {
    "scrolled": true
   },
   "outputs": [
    {
     "data": {
      "text/plain": [
       "<matplotlib.axes._subplots.AxesSubplot at 0x1fd80b6d668>"
      ]
     },
     "execution_count": 13,
     "metadata": {},
     "output_type": "execute_result"
    },
    {
     "data": {
      "image/png": "[encoded data removed]",
      "text/plain": [
       "<Figure size 432x288 with 1 Axes>"
      ]
     },
     "metadata": {},
     "output_type": "display_data"
    }
   ],
   "source": [
    "df[df['loan_status'] == 'Fully Paid'].grade.value_counts().plot(kind='bar', color = \n",
    "                                                                ['green', 'black', 'yellow', 'red', 'blue', 'cyan', 'orange'])"
   ]
  },
  {
   "cell_type": "markdown",
   "metadata": {},
   "source": [
    "## Variable exploration"
   ]
  },
  {
   "cell_type": "markdown",
   "metadata": {},
   "source": [
    "##### Variables that are mostly NaN \n",
    "The variables with only missing values were already removed. However, given the high dimensionality of the problem it is wise to remove the ones where more than half values are NaN"
   ]
  },
  {
   "cell_type": "code",
   "execution_count": 14,
   "metadata": {},
   "outputs": [
    {
     "name": "stdout",
     "output_type": "stream",
     "text": [
      "desc                                          0.999924\n",
      "orig_projected_additional_accrued_interest    0.996992\n",
      "deferral_term                                 0.993601\n",
      "hardship_amount                               0.993601\n",
      "hardship_start_date                           0.993601\n",
      "hardship_end_date                             0.993601\n",
      "payment_plan_start_date                       0.993601\n",
      "hardship_length                               0.993601\n",
      "hardship_dpd                                  0.993601\n",
      "hardship_loan_status                          0.993601\n",
      "hardship_payoff_balance_amount                0.993601\n",
      "hardship_status                               0.993601\n",
      "hardship_last_payment_amount                  0.993601\n",
      "hardship_type                                 0.993601\n",
      "hardship_reason                               0.993601\n",
      "annual_inc_joint                              0.982543\n",
      "dti_joint                                     0.982543\n",
      "verification_status_joint                     0.982543\n",
      "settlement_percentage                         0.970857\n",
      "settlement_term                               0.970857\n",
      "debt_settlement_flag_date                     0.970857\n",
      "settlement_status                             0.970857\n",
      "settlement_date                               0.970857\n",
      "settlement_amount                             0.970857\n",
      "mths_since_last_record                        0.793563\n",
      "mths_since_recent_bc_dlq                      0.745377\n",
      "mths_since_last_major_derog                   0.704146\n",
      "mths_since_recent_revol_delinq                0.640919\n",
      "dtype: float64\n"
     ]
    }
   ],
   "source": [
    "#determine NaN percentage\n",
    "check_null = df.isnull().sum().sort_values(ascending=False)/len(df)\n",
    "\n",
    "#print all with more than 50% NaNs\n",
    "print(check_null[check_null > 0.50])"
   ]
  },
  {
   "cell_type": "code",
   "execution_count": 15,
   "metadata": {},
   "outputs": [
    {
     "name": "stdout",
     "output_type": "stream",
     "text": [
      "Removed column(s) = 130 - 102 = 28\n"
     ]
    }
   ],
   "source": [
    "# Remove more than 50% NaN variables\n",
    "df.drop(check_null[check_null > 0.5].index, axis=1, inplace=True)\n",
    "df.dropna(axis=0, thresh=30,inplace=True)\n",
    "print('Removed column(s) = 130 - {} = {}'.format(df.shape[1], (130-df.shape[1])))"
   ]
  },
  {
   "cell_type": "markdown",
   "metadata": {},
   "source": [
    "##### Variable Correlation"
   ]
  },
  {
   "cell_type": "code",
   "execution_count": 16,
   "metadata": {},
   "outputs": [
    {
     "data": {
      "image/png": "[encoded data removed]",
      "text/plain": [
       "<Figure size 792x648 with 2 Axes>"
      ]
     },
     "metadata": {},
     "output_type": "display_data"
    }
   ],
   "source": [
    "# Select numerical variables\n",
    "num = df.select_dtypes(include=np.number)\n",
    "names = num.columns.values\n",
    "\n",
    "# Compute the correlation matrix\n",
    "corr = num.corr()\n",
    "\n",
    "# Visualization\n",
    "sns.set(style=\"white\")\n",
    "# Generate a mask for the upper triangle\n",
    "mask = np.zeros_like(corr, dtype=np.bool)\n",
    "mask[np.triu_indices_from(mask)] = True\n",
    "\n",
    "# Set up the matplotlib figure\n",
    "f, ax = plt.subplots(figsize=(11, 9))\n",
    "\n",
    "# Generate a custom diverging colormap\n",
    "cmap = 'Spectral_r'\n",
    "# sns.diverging_palette(100, 275 , as_cmap=True)\n",
    "\n",
    "# Draw the heatmap with the mask and correct aspect ratio\n",
    "sns.heatmap(corr, mask=mask, cmap=cmap, vmax=1, center=0,\n",
    "            square=True, linewidths=.5, cbar_kws={\"shrink\": .5})\n",
    "\n",
    "#ax.tick_params(labelsize=8)\n",
    "plt.yticks(range(num.shape[1]), names,rotation=0, size=6)\n",
    "#plt.xticks(rotation=90)\n",
    "plt.xticks(range(num.shape[1]), names, rotation=90, size=6)\n",
    "plt.show()"
   ]
  },
  {
   "cell_type": "markdown",
   "metadata": {},
   "source": [
    " Correlation is not causation. However, since the number of numerical variables is so high we can still check the pairs where the absolute correlation value is higher than 85% and discard some high correlated variables on the basis that they would offer approximately the same information, being redundant. "
   ]
  },
  {
   "cell_type": "code",
   "execution_count": 17,
   "metadata": {},
   "outputs": [
    {
     "name": "stdout",
     "output_type": "stream",
     "text": [
      "              level_0                     level_1         0\n",
      "0           loan_amnt                 funded_amnt  1.000000\n",
      "1           loan_amnt             funded_amnt_inv  0.999992\n",
      "2           loan_amnt                 installment  0.956304\n",
      "3         funded_amnt             funded_amnt_inv  0.999992\n",
      "4         funded_amnt                 installment  0.956304\n",
      "5     funded_amnt_inv                 installment  0.956220\n",
      "6            open_acc                    num_sats  0.998653\n",
      "7         total_pymnt             total_pymnt_inv  0.999994\n",
      "8         total_pymnt             total_rec_prncp  0.979293\n",
      "9     total_pymnt_inv             total_rec_prncp  0.979288\n",
      "10         recoveries     collection_recovery_fee  0.987253\n",
      "11        tot_cur_bal             tot_hi_cred_lim  0.957448\n",
      "12       total_bal_il           total_bal_ex_mort  0.895452\n",
      "13       total_bal_il  total_il_high_credit_limit  0.960351\n",
      "14    num_actv_rev_tl         num_rev_tl_bal_gt_0  0.975562\n",
      "15  total_bal_ex_mort  total_il_high_credit_limit  0.881402\n"
     ]
    }
   ],
   "source": [
    "dataCorr = corr.mask(np.tril(np.ones(corr.shape)).astype(np.bool))\n",
    "dataCorr = dataCorr[abs(dataCorr) >= 0.85].stack().reset_index()\n",
    "print(dataCorr[:50])"
   ]
  },
  {
   "cell_type": "markdown",
   "metadata": {},
   "source": [
    "- The correlation between 'loan_amnt', 'funded_amnt', and 'funded_amnt_inv' is avery high, so let's keep only the 'funded_amnt' which represents the amount actually funded\n",
    "- let's also remove  'loan_amnt', 'installment', 'num_sats', 'total_pymnt_inv', 'total_rec_prncp', 'collection_recovery_fee', 'tot_hi_cred_lim', 'total_bal_ex_mort', 'total_il_high_credit_limit' and 'num_rev_tl_bal_gt_0'. "
   ]
  },
  {
   "cell_type": "code",
   "execution_count": 18,
   "metadata": {},
   "outputs": [
    {
     "name": "stdout",
     "output_type": "stream",
     "text": [
      "Removed column(s) = 102 - 92 = 10\n"
     ]
    }
   ],
   "source": [
    "df.drop(['loan_amnt', 'installment', 'num_sats', 'total_pymnt_inv', 'total_rec_prncp', 'collection_recovery_fee', \n",
    "         'tot_hi_cred_lim', 'total_bal_ex_mort', 'total_il_high_credit_limit', 'num_rev_tl_bal_gt_0'], axis = 1, inplace = True)\n",
    "\n",
    "print('Removed column(s) = 102 - {} = {}'.format(df.shape[1], (102-df.shape[1])))"
   ]
  },
  {
   "cell_type": "markdown",
   "metadata": {},
   "source": [
    "By now the variables were reduced <b>from 145 to 92</b> by removing high NaN percentage variables, and highly correlated. \n",
    "Let's check the remaining variables for categorical data types and for more reduction possibilities. "
   ]
  },
  {
   "cell_type": "code",
   "execution_count": 19,
   "metadata": {},
   "outputs": [
    {
     "name": "stdout",
     "output_type": "stream",
     "text": [
      "Column 'term' has 2 unique instances ([' 36 months' ' 60 months']) . \n",
      "\n",
      "Column 'int_rate' has 138 unique instances ([' 11.47%' '  9.16%' ' 14.46%' ' 10.75%' ' 13.67%' ' 18.25%' ' 15.31%'\n",
      " ' 11.99%' ' 19.53%' ' 16.29%' '  5.32%' ' 12.99%' ' 24.11%' '  7.39%'\n",
      " ' 17.27%' '  9.75%' '  8.39%' ' 22.45%' ' 21.18%' '  7.89%' ' 19.99%'\n",
      " '  6.49%' ' 20.75%' ' 18.99%' '  6.97%' ' 28.34%' ' 21.97%' ' 24.99%'\n",
      " ' 26.57%' ' 28.99%' ' 28.14%' '  6.00%' ' 23.13%' ' 28.67%' ' 25.88%'\n",
      " ' 27.34%' ' 15.29%' ' 10.78%' '  9.17%' ' 12.88%' ' 13.44%' '  7.91%'\n",
      " ' 11.48%' ' 13.99%' '  6.99%' '  8.49%' ' 24.24%' ' 26.99%' ' 16.59%'\n",
      " ' 18.49%']) . Only showing first 50. \n",
      "\n",
      "Column 'grade' has 7 unique instances (['B' 'C' 'D' 'A' 'F' 'E' 'G']) . \n",
      "\n",
      "Column 'sub_grade' has 35 unique instances (['B5' 'B2' 'C4' 'B4' 'C3' 'D3' 'C5' 'C1' 'D5' 'D1' 'A1' 'C2' 'F2' 'A4'\n",
      " 'D2' 'B3' 'B1' 'E5' 'E3' 'A5' 'E1' 'A2' 'E2' 'D4' 'A3' 'G3' 'E4' 'F3'\n",
      " 'F5' 'G5' 'G2' 'F1' 'G4' 'F4' 'G1']) . \n",
      "\n",
      "Column 'emp_title' has 64407 unique instances (['Registered Nurse' 'mainteance' 'Fire fighter' nan 'parts sales'\n",
      " 'Senior Client Associate' 'Facility Scheduling & EVents Manager'\n",
      " 'vice president' 'Store Manager' 'Wealth Manager' 'Patrolman'\n",
      " 'Vice principal' 'Nurse' 'ASSISTANT CONTROLLER' 'DEPARTMENT MANAGER'\n",
      " 'Attorney ' 'Direct Support Staff' 'member' 'Receiving Operator'\n",
      " 'Controls Engineer ' 'College Assistant'\n",
      " 'coordinator Materials Management' 'Armed guard' 'Scheduler'\n",
      " 'facility administrator' 'Assembly' 'Crane Operator ' 'Project Manager'\n",
      " 'Driver' 'Trans Mgmt Coordinator 88N' 'General manager' 'Teacher'\n",
      " 'Branch Manager' 'cook' 'Owner' 'driver' 'Kindergarten Teacher'\n",
      " 'Business Manager' 'Manager' 'installer' 'Customer service associate '\n",
      " 'Bookkeeper' 'supervisor ' 'Executive Chef' 'Parts Consultant'\n",
      " 'Training specialist ' 'Table Games Supervisor' 'Officer'\n",
      " 'Senior Technical Support Engineer' 'Master Optician ']) . Only showing first 50. \n",
      "\n",
      "Column 'emp_length' has 12 unique instances (['10+ years' '2 years' nan '7 years' '9 years' '< 1 year' '4 years'\n",
      " '5 years' '1 year' '3 years' '6 years' '8 years']) . \n",
      "\n",
      "Column 'home_ownership' has 4 unique instances (['RENT' 'MORTGAGE' 'OWN' 'ANY']) . \n",
      "\n",
      "Column 'verification_status' has 3 unique instances (['Source Verified' 'Not Verified' 'Verified']) . \n",
      "\n",
      "Column 'issue_d' has 12 unique instances (['Mar-2016' 'Feb-2016' 'Jan-2016' 'Jun-2016' 'May-2016' 'Apr-2016'\n",
      " 'Sep-2016' 'Aug-2016' 'Jul-2016' 'Dec-2016' 'Nov-2016' 'Oct-2016']) . \n",
      "\n",
      "Column 'loan_status' has 2 unique instances (['Fully Paid' 'Charged Off']) . \n",
      "\n",
      "Column 'pymnt_plan' has 1 unique instances (['n']) . \n",
      "\n",
      "Column 'purpose' has 13 unique instances (['debt_consolidation' 'home_improvement' 'other' 'credit_card' 'moving'\n",
      " 'major_purchase' 'house' 'vacation' 'medical' 'small_business' 'car'\n",
      " 'renewable_energy' 'wedding']) . \n",
      "\n",
      "Column 'title' has 13 unique instances (['Debt consolidation' 'Home improvement' 'Other' 'Credit card refinancing'\n",
      " 'Moving and relocation' 'Major purchase' nan 'Vacation'\n",
      " 'Medical expenses' 'Business' 'Car financing' 'Home buying' 'Green loan']) . \n",
      "\n",
      "Column 'zip_code' has 896 unique instances (['391xx' '285xx' '799xx' '315xx' '281xx' '112xx' '820xx' '606xx' '116xx'\n",
      " '920xx' '463xx' '330xx' '328xx' '913xx' '957xx' '287xx' '200xx' '029xx'\n",
      " '815xx' '450xx' '978xx' '775xx' '104xx' '787xx' '950xx' '453xx' '335xx'\n",
      " '481xx' '234xx' '651xx' '970xx' '296xx' '750xx' '339xx' '609xx' '320xx'\n",
      " '440xx' '325xx' '770xx' '760xx' '871xx' '922xx' '908xx' '989xx' '917xx'\n",
      " '891xx' '380xx' '492xx' '186xx' '333xx']) . Only showing first 50. \n",
      "\n",
      "Column 'addr_state' has 50 unique instances (['MS' 'NC' 'TX' 'GA' 'NY' 'WY' 'IL' 'CA' 'IN' 'FL' 'DC' 'RI' 'CO' 'OH'\n",
      " 'OR' 'MI' 'VA' 'MO' 'SC' 'NM' 'WA' 'NV' 'TN' 'PA' 'KS' 'WV' 'AZ' 'MN'\n",
      " 'MD' 'MT' 'MA' 'CT' 'ND' 'WI' 'AR' 'NJ' 'KY' 'VT' 'UT' 'SD' 'AL' 'NH'\n",
      " 'OK' 'ID' 'LA' 'AK' 'NE' 'HI' 'DE' 'ME']) . \n",
      "\n",
      "Column 'earliest_cr_line' has 645 unique instances (['Jun-2006' 'Dec-2003' 'May-2005' 'Oct-1989' 'Nov-1983' 'Oct-1997'\n",
      " 'Jun-2005' 'Mar-1983' 'Sep-2006' 'Apr-1995' 'Jan-2005' 'Jan-1992'\n",
      " 'Sep-2008' 'Jul-2001' 'Nov-1987' 'Apr-2001' 'Aug-2004' 'Aug-2012'\n",
      " 'Dec-2000' 'Mar-1985' 'Mar-2005' 'May-2001' 'Sep-2012' 'Aug-2003'\n",
      " 'Apr-2007' 'Jul-1999' 'Sep-1991' 'Aug-2001' 'Apr-2004' 'Mar-1996'\n",
      " 'Oct-2000' 'Dec-1999' 'Nov-1999' 'Feb-2006' 'Sep-2007' 'Jan-2002'\n",
      " 'Apr-1983' 'Jul-2008' 'Jun-1993' 'Aug-2006' 'Nov-2005' 'Jun-2011'\n",
      " 'Jun-1997' 'Apr-1998' 'Feb-2000' 'Nov-1995' 'Apr-2002' 'Nov-1991'\n",
      " 'Jul-2002' 'Jan-2001']) . Only showing first 50. \n",
      "\n",
      "Column 'revol_util' has 1118 unique instances (['41.7%' '58.6%' '94.6%' '48.9%' '73.9%' '46.3%' '54.2%' '77.4%' '40.7%'\n",
      " '31.5%' '16.3%' '76.2%' '7.2%' '45.9%' '84.4%' '97%' '16.1%' '9.7%'\n",
      " '56.7%' '53.1%' '12.6%' '61%' '12%' '3.4%' '66.3%' '82.2%' '63.5%'\n",
      " '55.2%' '34.2%' '101.6%' '80%' '53.2%' '19.9%' '10.7%' '84.8%' '48.5%'\n",
      " '81.4%' '62%' '85.9%' '32.9%' '35.6%' '31.8%' '58%' '59.8%' '69.3%'\n",
      " '52.9%' '62.4%' '48%' '87.3%' '79%']) . Only showing first 50. \n",
      "\n",
      "Column 'initial_list_status' has 2 unique instances (['w' 'f']) . \n",
      "\n",
      "Column 'last_pymnt_d' has 31 unique instances (['Dec-2017' 'Jan-2018' 'Sep-2016' 'Aug-2016' 'Feb-2017' 'Feb-2018'\n",
      " 'Aug-2017' 'Jul-2017' 'Mar-2017' 'Nov-2017' 'Jun-2017' 'Jun-2018'\n",
      " 'Oct-2017' 'Apr-2017' 'Sep-2017' 'Dec-2016' 'Oct-2016' 'Mar-2018'\n",
      " 'May-2017' 'Jul-2016' 'Nov-2016' 'Apr-2016' 'Jun-2016' 'May-2018'\n",
      " 'Apr-2018' 'Jan-2017' 'May-2016' nan 'Mar-2016' 'Feb-2016' 'Jan-2016']) . \n",
      "\n",
      "Column 'last_credit_pull_d' has 33 unique instances (['Apr-2018' 'Dec-2017' 'Dec-2016' 'Jun-2018' 'Aug-2017' 'Jun-2017'\n",
      " 'Nov-2017' 'Oct-2017' 'Jul-2017' 'Mar-2018' 'Apr-2017' 'Jan-2018'\n",
      " 'May-2017' 'Mar-2017' 'Sep-2017' 'May-2018' 'Feb-2017' 'Oct-2016'\n",
      " 'Feb-2018' 'Apr-2016' 'Jul-2016' 'Nov-2016' 'Jun-2016' 'May-2016'\n",
      " 'Aug-2016' 'Jan-2017' 'Sep-2016' 'Mar-2016' nan 'Feb-2016' 'Jan-2016'\n",
      " 'Dec-2015' 'Jul-2018']) . \n",
      "\n",
      "Column 'application_type' has 2 unique instances (['Individual' 'Joint App']) . \n",
      "\n",
      "Column 'hardship_flag' has 1 unique instances (['N']) . \n",
      "\n",
      "Column 'disbursement_method' has 2 unique instances (['Cash' 'DirectPay']) . \n",
      "\n",
      "Column 'debt_settlement_flag' has 2 unique instances (['N' 'Y']) . \n",
      "\n"
     ]
    }
   ],
   "source": [
    "for col in df.select_dtypes(include=['object']).columns:\n",
    "    print (\"Column '{}' has {} unique instances ({}) {} \\n\".format(\n",
    "        col, len(df[col].unique()), df[col].unique()[:50], \n",
    "        '.' if len(df[col].unique()) <= 50 else ('. Only showing first 50.')))"
   ]
  },
  {
   "cell_type": "markdown",
   "metadata": {},
   "source": [
    "- 'term'\n",
    "        -> TURN TO INT TYPE\n",
    "- 'int_rate' \n",
    "        -> TURN TO FLOAT TYPE\n",
    "- 'grade' \n",
    "        -> CATEGORICAL\n",
    "- 'subgrade'\n",
    "        -> CATEGORICAL\n",
    "- 'emp_title' free text, high cardinality.\n",
    "        -> REMOVE\n",
    "- 'emp_length' \n",
    "        -> TURN TO INT TYPE\n",
    "- 'home_ownership'\n",
    "        -> CATEGORICAL\n",
    "- 'verification_status' \n",
    "        -> CATEGORICAL\n",
    "- 'issue_d' \n",
    "        -> ELAPSED DATE       \n",
    "- 'loan_status' \n",
    "        -> REMOVE !!! TARGET VARIABLE !!! \n",
    "- 'pymnt_plan' constant column \n",
    "        -> REMOVE\n",
    "- 'purpose' \n",
    "        -> CATEGORICAL \n",
    "- 'title' same info as purpose\n",
    "        -> REMOVE\n",
    "- 'zip_code' categorical high cardinality \n",
    "        -> REMOVE\n",
    "- 'addr_state' categorical high cardinality\n",
    "        -> REMOVE\n",
    "- 'earliest_cr_line' \n",
    "        -> ELAPSED DATE\n",
    "- 'revol_util' \n",
    "        -> TURN TO FLOAT TYPE\n",
    "- 'initial_list_status' \n",
    "        -> CATEGORICAL\n",
    "- 'last_pymnt_d' not considered relevant\n",
    "        -> REMOVE \n",
    "- 'last_credit_pull_d' not considered relevant\n",
    "        -> REMOVE\n",
    "- 'application_type' \n",
    "        -> CATEGORICAL \n",
    "- 'hardship_flag' constant  \n",
    "        -> REMOVE\n",
    "- 'disbursement_method' \n",
    "        -> CATEGORICAL\n",
    "- 'debt_settlement_flag' \n",
    "        -> CATEGORICAL"
   ]
  },
  {
   "cell_type": "markdown",
   "metadata": {},
   "source": [
    "#### Variables 1 - 50"
   ]
  },
  {
   "cell_type": "code",
   "execution_count": 20,
   "metadata": {},
   "outputs": [
    {
     "data": {
      "text/html": [
       "<div>\n",
       "<style scoped>\n",
       "    .dataframe tbody tr th:only-of-type {\n",
       "        vertical-align: middle;\n",
       "    }\n",
       "\n",
       "    .dataframe tbody tr th {\n",
       "        vertical-align: top;\n",
       "    }\n",
       "\n",
       "    .dataframe thead th {\n",
       "        text-align: right;\n",
       "    }\n",
       "</style>\n",
       "<table border=\"1\" class=\"dataframe\">\n",
       "  <thead>\n",
       "    <tr style=\"text-align: right;\">\n",
       "      <th></th>\n",
       "      <th></th>\n",
       "      <th>funded_amnt</th>\n",
       "      <th>funded_amnt_inv</th>\n",
       "      <th>term</th>\n",
       "      <th>int_rate</th>\n",
       "      <th>grade</th>\n",
       "      <th>sub_grade</th>\n",
       "      <th>emp_title</th>\n",
       "      <th>emp_length</th>\n",
       "      <th>home_ownership</th>\n",
       "      <th>annual_inc</th>\n",
       "      <th>...</th>\n",
       "      <th>application_type</th>\n",
       "      <th>acc_now_delinq</th>\n",
       "      <th>tot_coll_amt</th>\n",
       "      <th>tot_cur_bal</th>\n",
       "      <th>open_acc_6m</th>\n",
       "      <th>open_act_il</th>\n",
       "      <th>open_il_12m</th>\n",
       "      <th>open_il_24m</th>\n",
       "      <th>mths_since_rcnt_il</th>\n",
       "      <th>total_bal_il</th>\n",
       "    </tr>\n",
       "  </thead>\n",
       "  <tbody>\n",
       "    <tr>\n",
       "      <th rowspan=\"5\" valign=\"top\">Q1</th>\n",
       "      <th>2</th>\n",
       "      <td>8200.0</td>\n",
       "      <td>8200.0</td>\n",
       "      <td>36 months</td>\n",
       "      <td>11.47%</td>\n",
       "      <td>B</td>\n",
       "      <td>B5</td>\n",
       "      <td>Registered Nurse</td>\n",
       "      <td>10+ years</td>\n",
       "      <td>RENT</td>\n",
       "      <td>70000.0</td>\n",
       "      <td>...</td>\n",
       "      <td>Individual</td>\n",
       "      <td>0.0</td>\n",
       "      <td>149.0</td>\n",
       "      <td>37329.0</td>\n",
       "      <td>1.0</td>\n",
       "      <td>1.0</td>\n",
       "      <td>0.0</td>\n",
       "      <td>1.0</td>\n",
       "      <td>15.0</td>\n",
       "      <td>30992.0</td>\n",
       "    </tr>\n",
       "    <tr>\n",
       "      <th>4</th>\n",
       "      <td>15000.0</td>\n",
       "      <td>15000.0</td>\n",
       "      <td>36 months</td>\n",
       "      <td>9.16%</td>\n",
       "      <td>B</td>\n",
       "      <td>B2</td>\n",
       "      <td>mainteance</td>\n",
       "      <td>2 years</td>\n",
       "      <td>MORTGAGE</td>\n",
       "      <td>55000.0</td>\n",
       "      <td>...</td>\n",
       "      <td>Individual</td>\n",
       "      <td>0.0</td>\n",
       "      <td>403.0</td>\n",
       "      <td>96061.0</td>\n",
       "      <td>0.0</td>\n",
       "      <td>1.0</td>\n",
       "      <td>0.0</td>\n",
       "      <td>0.0</td>\n",
       "      <td>28.0</td>\n",
       "      <td>12499.0</td>\n",
       "    </tr>\n",
       "    <tr>\n",
       "      <th>8</th>\n",
       "      <td>16000.0</td>\n",
       "      <td>16000.0</td>\n",
       "      <td>60 months</td>\n",
       "      <td>14.46%</td>\n",
       "      <td>C</td>\n",
       "      <td>C4</td>\n",
       "      <td>Fire fighter</td>\n",
       "      <td>10+ years</td>\n",
       "      <td>MORTGAGE</td>\n",
       "      <td>69000.0</td>\n",
       "      <td>...</td>\n",
       "      <td>Individual</td>\n",
       "      <td>0.0</td>\n",
       "      <td>0.0</td>\n",
       "      <td>205141.0</td>\n",
       "      <td>0.0</td>\n",
       "      <td>2.0</td>\n",
       "      <td>0.0</td>\n",
       "      <td>1.0</td>\n",
       "      <td>24.0</td>\n",
       "      <td>63369.0</td>\n",
       "    </tr>\n",
       "    <tr>\n",
       "      <th>13</th>\n",
       "      <td>8400.0</td>\n",
       "      <td>8400.0</td>\n",
       "      <td>36 months</td>\n",
       "      <td>10.75%</td>\n",
       "      <td>B</td>\n",
       "      <td>B4</td>\n",
       "      <td>NaN</td>\n",
       "      <td>NaN</td>\n",
       "      <td>OWN</td>\n",
       "      <td>24000.0</td>\n",
       "      <td>...</td>\n",
       "      <td>Individual</td>\n",
       "      <td>0.0</td>\n",
       "      <td>0.0</td>\n",
       "      <td>23541.0</td>\n",
       "      <td>1.0</td>\n",
       "      <td>0.0</td>\n",
       "      <td>0.0</td>\n",
       "      <td>0.0</td>\n",
       "      <td>73.0</td>\n",
       "      <td>0.0</td>\n",
       "    </tr>\n",
       "    <tr>\n",
       "      <th>17</th>\n",
       "      <td>10000.0</td>\n",
       "      <td>10000.0</td>\n",
       "      <td>36 months</td>\n",
       "      <td>11.47%</td>\n",
       "      <td>B</td>\n",
       "      <td>B5</td>\n",
       "      <td>parts sales</td>\n",
       "      <td>10+ years</td>\n",
       "      <td>MORTGAGE</td>\n",
       "      <td>55000.0</td>\n",
       "      <td>...</td>\n",
       "      <td>Individual</td>\n",
       "      <td>0.0</td>\n",
       "      <td>0.0</td>\n",
       "      <td>46363.0</td>\n",
       "      <td>3.0</td>\n",
       "      <td>1.0</td>\n",
       "      <td>1.0</td>\n",
       "      <td>2.0</td>\n",
       "      <td>6.0</td>\n",
       "      <td>13286.0</td>\n",
       "    </tr>\n",
       "  </tbody>\n",
       "</table>\n",
       "<p>5 rows × 50 columns</p>\n",
       "</div>"
      ],
      "text/plain": [
       "       funded_amnt  funded_amnt_inv        term int_rate grade sub_grade  \\\n",
       "Q1 2        8200.0           8200.0   36 months   11.47%     B        B5   \n",
       "   4       15000.0          15000.0   36 months    9.16%     B        B2   \n",
       "   8       16000.0          16000.0   60 months   14.46%     C        C4   \n",
       "   13       8400.0           8400.0   36 months   10.75%     B        B4   \n",
       "   17      10000.0          10000.0   36 months   11.47%     B        B5   \n",
       "\n",
       "              emp_title emp_length home_ownership  annual_inc      ...       \\\n",
       "Q1 2   Registered Nurse  10+ years           RENT     70000.0      ...        \n",
       "   4         mainteance    2 years       MORTGAGE     55000.0      ...        \n",
       "   8       Fire fighter  10+ years       MORTGAGE     69000.0      ...        \n",
       "   13               NaN        NaN            OWN     24000.0      ...        \n",
       "   17       parts sales  10+ years       MORTGAGE     55000.0      ...        \n",
       "\n",
       "      application_type acc_now_delinq tot_coll_amt tot_cur_bal open_acc_6m  \\\n",
       "Q1 2        Individual            0.0        149.0     37329.0         1.0   \n",
       "   4        Individual            0.0        403.0     96061.0         0.0   \n",
       "   8        Individual            0.0          0.0    205141.0         0.0   \n",
       "   13       Individual            0.0          0.0     23541.0         1.0   \n",
       "   17       Individual            0.0          0.0     46363.0         3.0   \n",
       "\n",
       "      open_act_il open_il_12m open_il_24m  mths_since_rcnt_il  total_bal_il  \n",
       "Q1 2          1.0         0.0         1.0                15.0       30992.0  \n",
       "   4          1.0         0.0         0.0                28.0       12499.0  \n",
       "   8          2.0         0.0         1.0                24.0       63369.0  \n",
       "   13         0.0         0.0         0.0                73.0           0.0  \n",
       "   17         1.0         1.0         2.0                 6.0       13286.0  \n",
       "\n",
       "[5 rows x 50 columns]"
      ]
     },
     "execution_count": 20,
     "metadata": {},
     "output_type": "execute_result"
    }
   ],
   "source": [
    "df.iloc[:5,:50]"
   ]
  },
  {
   "cell_type": "code",
   "execution_count": 21,
   "metadata": {},
   "outputs": [],
   "source": [
    "# turn 'term' to int\n",
    "df.term = pd.Series(df.term).str.replace('months', '').astype(int)\n",
    "\n",
    "# turn 'int_rate' to float \n",
    "\n",
    "df.int_rate = pd.Series(df.int_rate).str.replace('%', '').astype(float)\n",
    "df.int_rate.values # array([11.47,  9.16, 14.46, ..., 14.49, 12.79, 14.49])\n",
    "\n",
    "# turn 'emp_length' to int using regex (NaN -> 0)\n",
    "\n",
    "df.emp_length.fillna(value=0,inplace=True)\n",
    "df.emp_length.replace(to_replace='[^0-9]+', value='', inplace=True, regex=True)\n",
    "df.emp_length = df.emp_length.astype(int)\n",
    "df.emp_length.dtype # dtype('int32')\n",
    "\n",
    "# turn 'issue_d', 'earliest_cr_line' to months elapsed since (...) -> see Date Variables\n",
    "\n",
    "# turn 'revol_util' to float \n",
    "\n",
    "df.revol_util = pd.Series(df.revol_util).str.replace('%', '').astype(float)\n",
    "\n",
    "# turn 'application_type' to binary\n",
    "df.application_type = pd.Series(df.application_type).str.replace('Individual', '1')\n",
    "df.application_type = pd.Series(df.application_type).str.replace('Joint App', '0').astype(int)\n",
    "\n",
    "# turn 'initial_list_status' to binary\n",
    "df.initial_list_status = pd.Series(df.initial_list_status).str.replace('w', '1')\n",
    "df.initial_list_status = pd.Series(df.initial_list_status).str.replace('f', '0').astype(int)\n",
    "\n",
    "# turn 'disbursement_method' to binary \n",
    "df.disbursement_method = pd.Series(df.disbursement_method).str.replace('Cash', '1')\n",
    "df.disbursement_method = pd.Series(df.disbursement_method).str.replace('DirectPay', '0').astype(int)\n",
    "\n",
    "# turn 'debt_settlement_flag' to binary \n",
    "df.debt_settlement_flag = pd.Series(df.debt_settlement_flag).str.replace('Y', '1')\n",
    "df.debt_settlement_flag = pd.Series(df.debt_settlement_flag).str.replace('N', '0').astype(int)\n",
    "\n",
    "# remove 'out_prncp' and 'out_prncp_inv' null variables\n",
    "\n",
    "# remove 'policy_code' constant column\n",
    "\n"
   ]
  },
  {
   "cell_type": "markdown",
   "metadata": {},
   "source": [
    "#### Variables 50 - 100"
   ]
  },
  {
   "cell_type": "code",
   "execution_count": 22,
   "metadata": {},
   "outputs": [
    {
     "data": {
      "text/html": [
       "<div>\n",
       "<style scoped>\n",
       "    .dataframe tbody tr th:only-of-type {\n",
       "        vertical-align: middle;\n",
       "    }\n",
       "\n",
       "    .dataframe tbody tr th {\n",
       "        vertical-align: top;\n",
       "    }\n",
       "\n",
       "    .dataframe thead th {\n",
       "        text-align: right;\n",
       "    }\n",
       "</style>\n",
       "<table border=\"1\" class=\"dataframe\">\n",
       "  <thead>\n",
       "    <tr style=\"text-align: right;\">\n",
       "      <th></th>\n",
       "      <th></th>\n",
       "      <th>il_util</th>\n",
       "      <th>open_rv_12m</th>\n",
       "      <th>open_rv_24m</th>\n",
       "      <th>max_bal_bc</th>\n",
       "      <th>all_util</th>\n",
       "      <th>total_rev_hi_lim</th>\n",
       "      <th>inq_fi</th>\n",
       "      <th>total_cu_tl</th>\n",
       "      <th>inq_last_12m</th>\n",
       "      <th>acc_open_past_24mths</th>\n",
       "      <th>...</th>\n",
       "      <th>num_tl_90g_dpd_24m</th>\n",
       "      <th>num_tl_op_past_12m</th>\n",
       "      <th>pct_tl_nvr_dlq</th>\n",
       "      <th>percent_bc_gt_75</th>\n",
       "      <th>pub_rec_bankruptcies</th>\n",
       "      <th>tax_liens</th>\n",
       "      <th>total_bc_limit</th>\n",
       "      <th>hardship_flag</th>\n",
       "      <th>disbursement_method</th>\n",
       "      <th>debt_settlement_flag</th>\n",
       "    </tr>\n",
       "  </thead>\n",
       "  <tbody>\n",
       "    <tr>\n",
       "      <th rowspan=\"5\" valign=\"top\">Q1</th>\n",
       "      <th>2</th>\n",
       "      <td>NaN</td>\n",
       "      <td>1.0</td>\n",
       "      <td>3.0</td>\n",
       "      <td>4536.0</td>\n",
       "      <td>42.0</td>\n",
       "      <td>15200.0</td>\n",
       "      <td>1.0</td>\n",
       "      <td>0.0</td>\n",
       "      <td>1.0</td>\n",
       "      <td>4.0</td>\n",
       "      <td>...</td>\n",
       "      <td>0.0</td>\n",
       "      <td>1.0</td>\n",
       "      <td>94.4</td>\n",
       "      <td>33.3</td>\n",
       "      <td>0.0</td>\n",
       "      <td>5.0</td>\n",
       "      <td>9300.0</td>\n",
       "      <td>N</td>\n",
       "      <td>1</td>\n",
       "      <td>0</td>\n",
       "    </tr>\n",
       "    <tr>\n",
       "      <th>4</th>\n",
       "      <td>58.0</td>\n",
       "      <td>0.0</td>\n",
       "      <td>2.0</td>\n",
       "      <td>1287.0</td>\n",
       "      <td>58.0</td>\n",
       "      <td>9600.0</td>\n",
       "      <td>0.0</td>\n",
       "      <td>0.0</td>\n",
       "      <td>0.0</td>\n",
       "      <td>2.0</td>\n",
       "      <td>...</td>\n",
       "      <td>0.0</td>\n",
       "      <td>0.0</td>\n",
       "      <td>100.0</td>\n",
       "      <td>100.0</td>\n",
       "      <td>0.0</td>\n",
       "      <td>0.0</td>\n",
       "      <td>1400.0</td>\n",
       "      <td>N</td>\n",
       "      <td>1</td>\n",
       "      <td>0</td>\n",
       "    </tr>\n",
       "    <tr>\n",
       "      <th>8</th>\n",
       "      <td>79.0</td>\n",
       "      <td>0.0</td>\n",
       "      <td>1.0</td>\n",
       "      <td>2187.0</td>\n",
       "      <td>82.0</td>\n",
       "      <td>7300.0</td>\n",
       "      <td>0.0</td>\n",
       "      <td>6.0</td>\n",
       "      <td>1.0</td>\n",
       "      <td>2.0</td>\n",
       "      <td>...</td>\n",
       "      <td>0.0</td>\n",
       "      <td>0.0</td>\n",
       "      <td>90.9</td>\n",
       "      <td>100.0</td>\n",
       "      <td>0.0</td>\n",
       "      <td>0.0</td>\n",
       "      <td>2300.0</td>\n",
       "      <td>N</td>\n",
       "      <td>1</td>\n",
       "      <td>0</td>\n",
       "    </tr>\n",
       "    <tr>\n",
       "      <th>13</th>\n",
       "      <td>NaN</td>\n",
       "      <td>1.0</td>\n",
       "      <td>3.0</td>\n",
       "      <td>7085.0</td>\n",
       "      <td>49.0</td>\n",
       "      <td>48100.0</td>\n",
       "      <td>0.0</td>\n",
       "      <td>0.0</td>\n",
       "      <td>1.0</td>\n",
       "      <td>3.0</td>\n",
       "      <td>...</td>\n",
       "      <td>0.0</td>\n",
       "      <td>1.0</td>\n",
       "      <td>92.3</td>\n",
       "      <td>0.0</td>\n",
       "      <td>0.0</td>\n",
       "      <td>0.0</td>\n",
       "      <td>33800.0</td>\n",
       "      <td>N</td>\n",
       "      <td>1</td>\n",
       "      <td>0</td>\n",
       "    </tr>\n",
       "    <tr>\n",
       "      <th>17</th>\n",
       "      <td>95.0</td>\n",
       "      <td>2.0</td>\n",
       "      <td>3.0</td>\n",
       "      <td>2150.0</td>\n",
       "      <td>88.0</td>\n",
       "      <td>6000.0</td>\n",
       "      <td>0.0</td>\n",
       "      <td>0.0</td>\n",
       "      <td>2.0</td>\n",
       "      <td>5.0</td>\n",
       "      <td>...</td>\n",
       "      <td>0.0</td>\n",
       "      <td>3.0</td>\n",
       "      <td>68.7</td>\n",
       "      <td>75.0</td>\n",
       "      <td>0.0</td>\n",
       "      <td>0.0</td>\n",
       "      <td>6000.0</td>\n",
       "      <td>N</td>\n",
       "      <td>1</td>\n",
       "      <td>0</td>\n",
       "    </tr>\n",
       "  </tbody>\n",
       "</table>\n",
       "<p>5 rows × 42 columns</p>\n",
       "</div>"
      ],
      "text/plain": [
       "       il_util  open_rv_12m  open_rv_24m  max_bal_bc  all_util  \\\n",
       "Q1 2       NaN          1.0          3.0      4536.0      42.0   \n",
       "   4      58.0          0.0          2.0      1287.0      58.0   \n",
       "   8      79.0          0.0          1.0      2187.0      82.0   \n",
       "   13      NaN          1.0          3.0      7085.0      49.0   \n",
       "   17     95.0          2.0          3.0      2150.0      88.0   \n",
       "\n",
       "       total_rev_hi_lim  inq_fi  total_cu_tl  inq_last_12m  \\\n",
       "Q1 2            15200.0     1.0          0.0           1.0   \n",
       "   4             9600.0     0.0          0.0           0.0   \n",
       "   8             7300.0     0.0          6.0           1.0   \n",
       "   13           48100.0     0.0          0.0           1.0   \n",
       "   17            6000.0     0.0          0.0           2.0   \n",
       "\n",
       "       acc_open_past_24mths          ...           num_tl_90g_dpd_24m  \\\n",
       "Q1 2                    4.0          ...                          0.0   \n",
       "   4                    2.0          ...                          0.0   \n",
       "   8                    2.0          ...                          0.0   \n",
       "   13                   3.0          ...                          0.0   \n",
       "   17                   5.0          ...                          0.0   \n",
       "\n",
       "       num_tl_op_past_12m  pct_tl_nvr_dlq  percent_bc_gt_75  \\\n",
       "Q1 2                  1.0            94.4              33.3   \n",
       "   4                  0.0           100.0             100.0   \n",
       "   8                  0.0            90.9             100.0   \n",
       "   13                 1.0            92.3               0.0   \n",
       "   17                 3.0            68.7              75.0   \n",
       "\n",
       "       pub_rec_bankruptcies  tax_liens  total_bc_limit  hardship_flag  \\\n",
       "Q1 2                    0.0        5.0          9300.0              N   \n",
       "   4                    0.0        0.0          1400.0              N   \n",
       "   8                    0.0        0.0          2300.0              N   \n",
       "   13                   0.0        0.0         33800.0              N   \n",
       "   17                   0.0        0.0          6000.0              N   \n",
       "\n",
       "       disbursement_method  debt_settlement_flag  \n",
       "Q1 2                     1                     0  \n",
       "   4                     1                     0  \n",
       "   8                     1                     0  \n",
       "   13                    1                     0  \n",
       "   17                    1                     0  \n",
       "\n",
       "[5 rows x 42 columns]"
      ]
     },
     "execution_count": 22,
     "metadata": {},
     "output_type": "execute_result"
    }
   ],
   "source": [
    "df.iloc[:5,50:]"
   ]
  },
  {
   "cell_type": "code",
   "execution_count": 23,
   "metadata": {},
   "outputs": [],
   "source": [
    "# turn 'hardship_start_date', 'hardship_end_date', 'payment_plan_start_date', \n",
    "                            #'debt_settlement_flag_date', 'settlement_date' to periods -> see Date Variables\n",
    "\n",
    "# 'hardship_flag'-> Remove (constant)"
   ]
  },
  {
   "cell_type": "markdown",
   "metadata": {},
   "source": [
    "## Pre -Processing"
   ]
  },
  {
   "cell_type": "markdown",
   "metadata": {},
   "source": [
    "##### High Cardinality variables"
   ]
  },
  {
   "cell_type": "code",
   "execution_count": 24,
   "metadata": {},
   "outputs": [
    {
     "name": "stdout",
     "output_type": "stream",
     "text": [
      "Removed column(s) = 92 - 81 = 10\n"
     ]
    }
   ],
   "source": [
    "# Remove high cardinality variables \n",
    "\n",
    "df.drop(['emp_title', 'pymnt_plan', 'title', 'zip_code', 'addr_state', 'out_prncp', 'out_prncp_inv', \n",
    "        'policy_code', 'hardship_flag', 'last_pymnt_d', 'last_credit_pull_d'], axis = 1, inplace = True)\n",
    "\n",
    "print('Removed column(s) = 92 - {} = {}'.format(df.shape[1], (91-df.shape[1])))\n"
   ]
  },
  {
   "cell_type": "markdown",
   "metadata": {},
   "source": [
    "##### Time Variables\n"
   ]
  },
  {
   "cell_type": "code",
   "execution_count": 25,
   "metadata": {},
   "outputs": [
    {
     "data": {
      "text/plain": [
       "(196137, 2)"
      ]
     },
     "execution_count": 25,
     "metadata": {},
     "output_type": "execute_result"
    }
   ],
   "source": [
    "dates = ['issue_d' , 'earliest_cr_line']\n",
    "dfdates = df[dates].copy()\n",
    "dfdates[dates] = '1-' + df[dates].astype(str) \n",
    "dfdates.head()\n",
    "dfdates.shape"
   ]
  },
  {
   "cell_type": "code",
   "execution_count": 26,
   "metadata": {},
   "outputs": [
    {
     "data": {
      "text/html": [
       "<div>\n",
       "<style scoped>\n",
       "    .dataframe tbody tr th:only-of-type {\n",
       "        vertical-align: middle;\n",
       "    }\n",
       "\n",
       "    .dataframe tbody tr th {\n",
       "        vertical-align: top;\n",
       "    }\n",
       "\n",
       "    .dataframe thead th {\n",
       "        text-align: right;\n",
       "    }\n",
       "</style>\n",
       "<table border=\"1\" class=\"dataframe\">\n",
       "  <thead>\n",
       "    <tr style=\"text-align: right;\">\n",
       "      <th></th>\n",
       "      <th></th>\n",
       "      <th>issue_d</th>\n",
       "      <th>earliest_cr_line</th>\n",
       "    </tr>\n",
       "  </thead>\n",
       "  <tbody>\n",
       "    <tr>\n",
       "      <th rowspan=\"5\" valign=\"top\">Q1</th>\n",
       "      <th>2</th>\n",
       "      <td>1-Mar-2016</td>\n",
       "      <td>1-Jun-2006</td>\n",
       "    </tr>\n",
       "    <tr>\n",
       "      <th>4</th>\n",
       "      <td>1-Mar-2016</td>\n",
       "      <td>1-Dec-2003</td>\n",
       "    </tr>\n",
       "    <tr>\n",
       "      <th>8</th>\n",
       "      <td>1-Mar-2016</td>\n",
       "      <td>1-May-2005</td>\n",
       "    </tr>\n",
       "    <tr>\n",
       "      <th>13</th>\n",
       "      <td>1-Mar-2016</td>\n",
       "      <td>1-Oct-1989</td>\n",
       "    </tr>\n",
       "    <tr>\n",
       "      <th>17</th>\n",
       "      <td>1-Mar-2016</td>\n",
       "      <td>1-Nov-1983</td>\n",
       "    </tr>\n",
       "  </tbody>\n",
       "</table>\n",
       "</div>"
      ],
      "text/plain": [
       "          issue_d earliest_cr_line\n",
       "Q1 2   1-Mar-2016       1-Jun-2006\n",
       "   4   1-Mar-2016       1-Dec-2003\n",
       "   8   1-Mar-2016       1-May-2005\n",
       "   13  1-Mar-2016       1-Oct-1989\n",
       "   17  1-Mar-2016       1-Nov-1983"
      ]
     },
     "execution_count": 26,
     "metadata": {},
     "output_type": "execute_result"
    }
   ],
   "source": [
    "dfdates.head()"
   ]
  },
  {
   "cell_type": "code",
   "execution_count": 27,
   "metadata": {},
   "outputs": [],
   "source": [
    "# Turn columns to datetime objects\n",
    "dfdates.issue_d = pd.to_datetime(dfdates.issue_d)\n",
    "dfdates.earliest_cr_line = pd.to_datetime(dfdates.earliest_cr_line)\n",
    "\n",
    "# Today's datetime\n",
    "today = datetime.date.today()\n",
    "\n",
    "# Turn datetimes into elapsed months since the dates to today using monthmod.py\n",
    "dfdates.issue_d = dfdates.issue_d.apply(lambda x: (\n",
    "    monthmod(x, pd.Timestamp(today))[0].months))\n",
    "dfdates.earliest_cr_line = dfdates.earliest_cr_line.apply(lambda x: (\n",
    "    monthmod(x, pd.Timestamp(today))[0].months))"
   ]
  },
  {
   "cell_type": "code",
   "execution_count": 28,
   "metadata": {},
   "outputs": [
    {
     "data": {
      "text/html": [
       "<div>\n",
       "<style scoped>\n",
       "    .dataframe tbody tr th:only-of-type {\n",
       "        vertical-align: middle;\n",
       "    }\n",
       "\n",
       "    .dataframe tbody tr th {\n",
       "        vertical-align: top;\n",
       "    }\n",
       "\n",
       "    .dataframe thead th {\n",
       "        text-align: right;\n",
       "    }\n",
       "</style>\n",
       "<table border=\"1\" class=\"dataframe\">\n",
       "  <thead>\n",
       "    <tr style=\"text-align: right;\">\n",
       "      <th></th>\n",
       "      <th></th>\n",
       "      <th>issue_d</th>\n",
       "      <th>earliest_cr_line</th>\n",
       "    </tr>\n",
       "  </thead>\n",
       "  <tbody>\n",
       "    <tr>\n",
       "      <th rowspan=\"5\" valign=\"top\">Q1</th>\n",
       "      <th>2</th>\n",
       "      <td>28</td>\n",
       "      <td>145</td>\n",
       "    </tr>\n",
       "    <tr>\n",
       "      <th>4</th>\n",
       "      <td>28</td>\n",
       "      <td>175</td>\n",
       "    </tr>\n",
       "    <tr>\n",
       "      <th>8</th>\n",
       "      <td>28</td>\n",
       "      <td>158</td>\n",
       "    </tr>\n",
       "    <tr>\n",
       "      <th>13</th>\n",
       "      <td>28</td>\n",
       "      <td>345</td>\n",
       "    </tr>\n",
       "    <tr>\n",
       "      <th>17</th>\n",
       "      <td>28</td>\n",
       "      <td>416</td>\n",
       "    </tr>\n",
       "  </tbody>\n",
       "</table>\n",
       "</div>"
      ],
      "text/plain": [
       "       issue_d  earliest_cr_line\n",
       "Q1 2        28               145\n",
       "   4        28               175\n",
       "   8        28               158\n",
       "   13       28               345\n",
       "   17       28               416"
      ]
     },
     "execution_count": 28,
     "metadata": {},
     "output_type": "execute_result"
    }
   ],
   "source": [
    "df[dates] = dfdates.astype(int)\n",
    "df[dates].head()"
   ]
  },
  {
   "cell_type": "markdown",
   "metadata": {},
   "source": [
    "##### Categorical Variables"
   ]
  },
  {
   "cell_type": "code",
   "execution_count": 29,
   "metadata": {},
   "outputs": [],
   "source": [
    "# Categorical variables from previous analysis\n",
    "# \n",
    "cat = ['grade', 'sub_grade', 'home_ownership', 'verification_status', 'purpose']\n",
    "\n",
    "# One-hot encode categoricals\n",
    "dummified_cols = pd.get_dummies(df[cat])\n",
    "\n",
    "#Remove original columns and add encoded\n",
    "df.drop(cat, axis =1, inplace= True)\n",
    "df = df.join(dummified_cols)"
   ]
  },
  {
   "cell_type": "code",
   "execution_count": 30,
   "metadata": {},
   "outputs": [
    {
     "data": {
      "text/html": [
       "<div>\n",
       "<style scoped>\n",
       "    .dataframe tbody tr th:only-of-type {\n",
       "        vertical-align: middle;\n",
       "    }\n",
       "\n",
       "    .dataframe tbody tr th {\n",
       "        vertical-align: top;\n",
       "    }\n",
       "\n",
       "    .dataframe thead th {\n",
       "        text-align: right;\n",
       "    }\n",
       "</style>\n",
       "<table border=\"1\" class=\"dataframe\">\n",
       "  <thead>\n",
       "    <tr style=\"text-align: right;\">\n",
       "      <th></th>\n",
       "      <th></th>\n",
       "      <th>grade_A</th>\n",
       "      <th>grade_B</th>\n",
       "      <th>grade_C</th>\n",
       "      <th>grade_D</th>\n",
       "      <th>grade_E</th>\n",
       "      <th>grade_F</th>\n",
       "      <th>grade_G</th>\n",
       "      <th>sub_grade_A1</th>\n",
       "      <th>sub_grade_A2</th>\n",
       "      <th>sub_grade_A3</th>\n",
       "      <th>...</th>\n",
       "      <th>purpose_home_improvement</th>\n",
       "      <th>purpose_house</th>\n",
       "      <th>purpose_major_purchase</th>\n",
       "      <th>purpose_medical</th>\n",
       "      <th>purpose_moving</th>\n",
       "      <th>purpose_other</th>\n",
       "      <th>purpose_renewable_energy</th>\n",
       "      <th>purpose_small_business</th>\n",
       "      <th>purpose_vacation</th>\n",
       "      <th>purpose_wedding</th>\n",
       "    </tr>\n",
       "  </thead>\n",
       "  <tbody>\n",
       "    <tr>\n",
       "      <th rowspan=\"5\" valign=\"top\">Q1</th>\n",
       "      <th>2</th>\n",
       "      <td>0</td>\n",
       "      <td>1</td>\n",
       "      <td>0</td>\n",
       "      <td>0</td>\n",
       "      <td>0</td>\n",
       "      <td>0</td>\n",
       "      <td>0</td>\n",
       "      <td>0</td>\n",
       "      <td>0</td>\n",
       "      <td>0</td>\n",
       "      <td>...</td>\n",
       "      <td>0</td>\n",
       "      <td>0</td>\n",
       "      <td>0</td>\n",
       "      <td>0</td>\n",
       "      <td>0</td>\n",
       "      <td>0</td>\n",
       "      <td>0</td>\n",
       "      <td>0</td>\n",
       "      <td>0</td>\n",
       "      <td>0</td>\n",
       "    </tr>\n",
       "    <tr>\n",
       "      <th>4</th>\n",
       "      <td>0</td>\n",
       "      <td>1</td>\n",
       "      <td>0</td>\n",
       "      <td>0</td>\n",
       "      <td>0</td>\n",
       "      <td>0</td>\n",
       "      <td>0</td>\n",
       "      <td>0</td>\n",
       "      <td>0</td>\n",
       "      <td>0</td>\n",
       "      <td>...</td>\n",
       "      <td>1</td>\n",
       "      <td>0</td>\n",
       "      <td>0</td>\n",
       "      <td>0</td>\n",
       "      <td>0</td>\n",
       "      <td>0</td>\n",
       "      <td>0</td>\n",
       "      <td>0</td>\n",
       "      <td>0</td>\n",
       "      <td>0</td>\n",
       "    </tr>\n",
       "    <tr>\n",
       "      <th>8</th>\n",
       "      <td>0</td>\n",
       "      <td>0</td>\n",
       "      <td>1</td>\n",
       "      <td>0</td>\n",
       "      <td>0</td>\n",
       "      <td>0</td>\n",
       "      <td>0</td>\n",
       "      <td>0</td>\n",
       "      <td>0</td>\n",
       "      <td>0</td>\n",
       "      <td>...</td>\n",
       "      <td>1</td>\n",
       "      <td>0</td>\n",
       "      <td>0</td>\n",
       "      <td>0</td>\n",
       "      <td>0</td>\n",
       "      <td>0</td>\n",
       "      <td>0</td>\n",
       "      <td>0</td>\n",
       "      <td>0</td>\n",
       "      <td>0</td>\n",
       "    </tr>\n",
       "    <tr>\n",
       "      <th>13</th>\n",
       "      <td>0</td>\n",
       "      <td>1</td>\n",
       "      <td>0</td>\n",
       "      <td>0</td>\n",
       "      <td>0</td>\n",
       "      <td>0</td>\n",
       "      <td>0</td>\n",
       "      <td>0</td>\n",
       "      <td>0</td>\n",
       "      <td>0</td>\n",
       "      <td>...</td>\n",
       "      <td>0</td>\n",
       "      <td>0</td>\n",
       "      <td>0</td>\n",
       "      <td>0</td>\n",
       "      <td>0</td>\n",
       "      <td>0</td>\n",
       "      <td>0</td>\n",
       "      <td>0</td>\n",
       "      <td>0</td>\n",
       "      <td>0</td>\n",
       "    </tr>\n",
       "    <tr>\n",
       "      <th>17</th>\n",
       "      <td>0</td>\n",
       "      <td>1</td>\n",
       "      <td>0</td>\n",
       "      <td>0</td>\n",
       "      <td>0</td>\n",
       "      <td>0</td>\n",
       "      <td>0</td>\n",
       "      <td>0</td>\n",
       "      <td>0</td>\n",
       "      <td>0</td>\n",
       "      <td>...</td>\n",
       "      <td>0</td>\n",
       "      <td>0</td>\n",
       "      <td>0</td>\n",
       "      <td>0</td>\n",
       "      <td>0</td>\n",
       "      <td>1</td>\n",
       "      <td>0</td>\n",
       "      <td>0</td>\n",
       "      <td>0</td>\n",
       "      <td>0</td>\n",
       "    </tr>\n",
       "  </tbody>\n",
       "</table>\n",
       "<p>5 rows × 62 columns</p>\n",
       "</div>"
      ],
      "text/plain": [
       "       grade_A  grade_B  grade_C  grade_D  grade_E  grade_F  grade_G  \\\n",
       "Q1 2         0        1        0        0        0        0        0   \n",
       "   4         0        1        0        0        0        0        0   \n",
       "   8         0        0        1        0        0        0        0   \n",
       "   13        0        1        0        0        0        0        0   \n",
       "   17        0        1        0        0        0        0        0   \n",
       "\n",
       "       sub_grade_A1  sub_grade_A2  sub_grade_A3       ...         \\\n",
       "Q1 2              0             0             0       ...          \n",
       "   4              0             0             0       ...          \n",
       "   8              0             0             0       ...          \n",
       "   13             0             0             0       ...          \n",
       "   17             0             0             0       ...          \n",
       "\n",
       "       purpose_home_improvement  purpose_house  purpose_major_purchase  \\\n",
       "Q1 2                          0              0                       0   \n",
       "   4                          1              0                       0   \n",
       "   8                          1              0                       0   \n",
       "   13                         0              0                       0   \n",
       "   17                         0              0                       0   \n",
       "\n",
       "       purpose_medical  purpose_moving  purpose_other  \\\n",
       "Q1 2                 0               0              0   \n",
       "   4                 0               0              0   \n",
       "   8                 0               0              0   \n",
       "   13                0               0              0   \n",
       "   17                0               0              1   \n",
       "\n",
       "       purpose_renewable_energy  purpose_small_business  purpose_vacation  \\\n",
       "Q1 2                          0                       0                 0   \n",
       "   4                          0                       0                 0   \n",
       "   8                          0                       0                 0   \n",
       "   13                         0                       0                 0   \n",
       "   17                         0                       0                 0   \n",
       "\n",
       "       purpose_wedding  \n",
       "Q1 2                 0  \n",
       "   4                 0  \n",
       "   8                 0  \n",
       "   13                0  \n",
       "   17                0  \n",
       "\n",
       "[5 rows x 62 columns]"
      ]
     },
     "execution_count": 30,
     "metadata": {},
     "output_type": "execute_result"
    }
   ],
   "source": [
    "dummified_cols.head()"
   ]
  },
  {
   "cell_type": "markdown",
   "metadata": {},
   "source": [
    "##### Missing Data\n",
    "Even after removing columns with more that 50% NaN, we're left with some missing data. "
   ]
  },
  {
   "cell_type": "code",
   "execution_count": 31,
   "metadata": {},
   "outputs": [],
   "source": [
    " # NaN entries? remove? equal zero? mean?  -> remove if NaN > 60, else median"
   ]
  },
  {
   "cell_type": "code",
   "execution_count": 32,
   "metadata": {},
   "outputs": [
    {
     "name": "stdout",
     "output_type": "stream",
     "text": [
      "mths_since_last_delinq    92921\n",
      "il_util                   24401\n",
      "mths_since_recent_inq     16472\n",
      "num_tl_120dpd_2m           9356\n",
      "mths_since_rcnt_il         4567\n",
      "mo_sin_old_il_acct         4541\n",
      "bc_util                    2398\n",
      "percent_bc_gt_75           2299\n",
      "bc_open_to_buy             2285\n",
      "mths_since_recent_bc       2132\n",
      "revol_util                  129\n",
      "all_util                     44\n",
      "total_cu_tl                  30\n",
      "open_acc_6m                  30\n",
      "inq_last_12m                 30\n",
      "max_bal_bc                   29\n",
      "open_rv_24m                  29\n",
      "open_rv_12m                  29\n",
      "total_bal_il                 29\n",
      "inq_fi                       29\n",
      "dtype: int64\n",
      "Only showing first 20\n"
     ]
    }
   ],
   "source": [
    "print(df.isnull().sum().sort_values(ascending=False)[:20])\n",
    "print('Only showing first 20')"
   ]
  },
  {
   "cell_type": "markdown",
   "metadata": {},
   "source": [
    "By removing the top ten columns that still have a lot of missing data, we can then input the missing data remaining without adding too much bias, or remove it without losing too many samples. This can be revisited if the results are not satisfactory enough and we think this columns could help to improve them. "
   ]
  },
  {
   "cell_type": "code",
   "execution_count": 33,
   "metadata": {},
   "outputs": [],
   "source": [
    "df.drop(['mths_since_last_delinq','il_util', 'mths_since_recent_inq', 'num_tl_120dpd_2m', 'mths_since_rcnt_il',\n",
    "         'mo_sin_old_il_acct', 'bc_util', 'percent_bc_gt_75', 'bc_open_to_buy', 'mths_since_recent_bc'], axis = 1, inplace=True)"
   ]
  },
  {
   "cell_type": "markdown",
   "metadata": {},
   "source": [
    "Let's remove the rows with the remaining NaN entries. We could also fill them with the mean, but removing them we don't introduce any bias."
   ]
  },
  {
   "cell_type": "code",
   "execution_count": 34,
   "metadata": {
    "scrolled": true
   },
   "outputs": [],
   "source": [
    "# df.fillna(df.mean())\n",
    "df.dropna(axis=0, inplace=True)"
   ]
  },
  {
   "cell_type": "markdown",
   "metadata": {},
   "source": [
    "##### Target Variable"
   ]
  },
  {
   "cell_type": "code",
   "execution_count": 35,
   "metadata": {},
   "outputs": [
    {
     "name": "stdout",
     "output_type": "stream",
     "text": [
      "Removed column(s) = 92 - 127 = -35\n"
     ]
    }
   ],
   "source": [
    "# Remove target variable\n",
    "\n",
    "y = df['loan_status']\n",
    "df.drop(['loan_status'], axis = 1, inplace = True)\n",
    "print('Removed column(s) = 92 - {} = {}'.format(df.shape[1], (92-df.shape[1])))"
   ]
  },
  {
   "cell_type": "code",
   "execution_count": 36,
   "metadata": {},
   "outputs": [],
   "source": [
    "# turn target variable to binary \n",
    "y = pd.Series(y).str.replace('Charged Off', '1')\n",
    "y = pd.Series(y).str.replace('Fully Paid', '0').astype(int)"
   ]
  },
  {
   "cell_type": "markdown",
   "metadata": {},
   "source": [
    "## Train and Test Sets"
   ]
  },
  {
   "cell_type": "markdown",
   "metadata": {},
   "source": [
    "We can now split the data set in training and testing sets. The testing set will be the data referent to the Q4 index. \n"
   ]
  },
  {
   "cell_type": "code",
   "execution_count": 37,
   "metadata": {},
   "outputs": [],
   "source": [
    "names = df.columns.values\n",
    "X_test = df.loc['Q4', :]\n",
    "X_train = df.drop('Q4')\n",
    "y_test = y.loc['Q4', :]\n",
    "y_train = y.drop('Q4')"
   ]
  },
  {
   "cell_type": "markdown",
   "metadata": {},
   "source": [
    "### Standardize variables"
   ]
  },
  {
   "cell_type": "code",
   "execution_count": 38,
   "metadata": {},
   "outputs": [],
   "source": [
    "def standardize (X):\n",
    "    scaler = StandardScaler()\n",
    "    X_norm = scaler.fit_transform(X)\n",
    "    X_norm = pd.DataFrame(data=X_norm, columns=names)\n",
    "    return X_norm, scaler\n",
    "\n",
    "X_train, Xzscaler = standardize(X_train)\n",
    "X_test = Xzscaler.transform(X_test) # the scaler modeled to the train set is applied on the test set\n"
   ]
  },
  {
   "cell_type": "markdown",
   "metadata": {},
   "source": [
    "### Model Selection\n",
    "\n",
    "I'll experiment with a few different classification models. Logistic regression, Random Forest and GradientBoost which are know for having good performances. Also, by experimenting with different techniques (regression, trees, boosting) it is possible to conclude what kind better fits the problem. "
   ]
  },
  {
   "cell_type": "code",
   "execution_count": 39,
   "metadata": {},
   "outputs": [],
   "source": [
    "# Function to run the models and evaluate the results\n",
    "def run_models(X_train, y_train, X_test, y_test):\n",
    "    \n",
    "    clfs = {'LogisticRegression' : LogisticRegression(),\n",
    "            #'DecisionTree': DecisionTreeClassifier(random_state=1),\n",
    "            #'KNNClassifier': KNeighborsClassifier(n_neighbors=10),\n",
    "            'GradientBoosting': GradientBoostingClassifier(max_depth= 6, n_estimators=100, max_features = 0.3, random_state=1),\n",
    "            'RandomForestClassifier': RandomForestClassifier(n_estimators=10, random_state=1)\n",
    "            }\n",
    "    cols = ['model','matthews_corrcoef', 'roc_auc_score', 'precision_score', 'recall_score','f1_score']\n",
    "\n",
    "    models_report = pd.DataFrame(columns = cols)\n",
    "    conf_matrix = dict()\n",
    "\n",
    "    for clf, clf_name in zip(clfs.values(), clfs.keys()):\n",
    "\n",
    "        clf.fit(X_train, y_train)\n",
    "\n",
    "        y_pred = clf.predict(X_test)\n",
    "        y_score = clf.predict_proba(X_test)[:,1]\n",
    "\n",
    "        print('computing {}'.format(clf_name))\n",
    "\n",
    "        tmp = pd.Series({'model': clf_name,\n",
    "                         'roc_auc_score' : metrics.roc_auc_score(y_test, y_score),\n",
    "                         'matthews_corrcoef': metrics.matthews_corrcoef(y_test, y_pred),\n",
    "                         'precision_score': metrics.precision_score(y_test, y_pred),\n",
    "                         'recall_score': metrics.recall_score(y_test, y_pred),\n",
    "                         'f1_score': metrics.f1_score(y_test, y_pred)})\n",
    "\n",
    "        models_report = models_report.append(tmp, ignore_index = True)\n",
    "        conf_matrix[clf_name] = pd.crosstab(y_test, y_pred, rownames=['True'], colnames= ['Predicted'], margins=False)\n",
    "        fpr, tpr, thresholds = metrics.roc_curve(y_test, y_score, drop_intermediate = False, pos_label = 1)\n",
    "\n",
    "        plt.figure(1, figsize=(6,6))\n",
    "        plt.xlabel('false positive rate')\n",
    "        plt.ylabel('true positive rate')\n",
    "        plt.title('ROC curve')\n",
    "        plt.plot(fpr, tpr, label = clf_name )\n",
    "        plt.legend(loc=4, prop={'size':11})\n",
    "    plt.plot([0,1],[0,1], color = 'black')\n",
    "    \n",
    "    return models_report, conf_matrix"
   ]
  },
  {
   "cell_type": "code",
   "execution_count": 40,
   "metadata": {
    "scrolled": false
   },
   "outputs": [
    {
     "name": "stdout",
     "output_type": "stream",
     "text": [
      "computing LogisticRegression\n",
      "computing GradientBoosting\n",
      "computing RandomForestClassifier\n"
     ]
    },
    {
     "data": {
      "image/png": "[encoded data removed]",
      "text/plain": [
       "<Figure size 432x432 with 1 Axes>"
      ]
     },
     "metadata": {},
     "output_type": "display_data"
    }
   ],
   "source": [
    "# this step takes a while to process.\n",
    "# Be patient the models are being generated, predictions made and results evaluated. \n",
    "\n",
    "models_report, conf_matrix = run_models(X_train, y_train, X_test, y_test)"
   ]
  },
  {
   "cell_type": "code",
   "execution_count": 41,
   "metadata": {},
   "outputs": [
    {
     "data": {
      "text/html": [
       "<div>\n",
       "<style scoped>\n",
       "    .dataframe tbody tr th:only-of-type {\n",
       "        vertical-align: middle;\n",
       "    }\n",
       "\n",
       "    .dataframe tbody tr th {\n",
       "        vertical-align: top;\n",
       "    }\n",
       "\n",
       "    .dataframe thead th {\n",
       "        text-align: right;\n",
       "    }\n",
       "</style>\n",
       "<table border=\"1\" class=\"dataframe\">\n",
       "  <thead>\n",
       "    <tr style=\"text-align: right;\">\n",
       "      <th></th>\n",
       "      <th>model</th>\n",
       "      <th>matthews_corrcoef</th>\n",
       "      <th>roc_auc_score</th>\n",
       "      <th>precision_score</th>\n",
       "      <th>recall_score</th>\n",
       "      <th>f1_score</th>\n",
       "    </tr>\n",
       "  </thead>\n",
       "  <tbody>\n",
       "    <tr>\n",
       "      <th>0</th>\n",
       "      <td>LogisticRegression</td>\n",
       "      <td>0.995379</td>\n",
       "      <td>0.999383</td>\n",
       "      <td>0.999884</td>\n",
       "      <td>0.992959</td>\n",
       "      <td>0.996409</td>\n",
       "    </tr>\n",
       "    <tr>\n",
       "      <th>1</th>\n",
       "      <td>GradientBoosting</td>\n",
       "      <td>0.999180</td>\n",
       "      <td>0.999927</td>\n",
       "      <td>0.999769</td>\n",
       "      <td>0.998961</td>\n",
       "      <td>0.999365</td>\n",
       "    </tr>\n",
       "    <tr>\n",
       "      <th>2</th>\n",
       "      <td>RandomForestClassifier</td>\n",
       "      <td>0.985064</td>\n",
       "      <td>0.999653</td>\n",
       "      <td>0.993354</td>\n",
       "      <td>0.983493</td>\n",
       "      <td>0.988399</td>\n",
       "    </tr>\n",
       "  </tbody>\n",
       "</table>\n",
       "</div>"
      ],
      "text/plain": [
       "                    model  matthews_corrcoef  roc_auc_score  precision_score  \\\n",
       "0      LogisticRegression           0.995379       0.999383         0.999884   \n",
       "1        GradientBoosting           0.999180       0.999927         0.999769   \n",
       "2  RandomForestClassifier           0.985064       0.999653         0.993354   \n",
       "\n",
       "   recall_score  f1_score  \n",
       "0      0.992959  0.996409  \n",
       "1      0.998961  0.999365  \n",
       "2      0.983493  0.988399  "
      ]
     },
     "execution_count": 41,
     "metadata": {},
     "output_type": "execute_result"
    }
   ],
   "source": [
    "models_report"
   ]
  },
  {
   "cell_type": "markdown",
   "metadata": {},
   "source": [
    "## Final Notes: \n",
    "    - We could also do another split for cross validation and hyperparameter tunning, which could improve the performance of the models however this is time consuming and I considered it to be out of the scope of this challenge. Besides: the performances are outstanding already. "
   ]
  }
 ],
 "metadata": {
  "kernelspec": {
   "display_name": "Python 3",
   "language": "python",
   "name": "python3"
  },
  "language_info": {
   "codemirror_mode": {
    "name": "ipython",
    "version": 3
   },
   "file_extension": ".py",
   "mimetype": "text/x-python",
   "name": "python",
   "nbconvert_exporter": "python",
   "pygments_lexer": "ipython3",
   "version": "3.6.5"
  }
 },
 "nbformat": 4,
 "nbformat_minor": 2
}
